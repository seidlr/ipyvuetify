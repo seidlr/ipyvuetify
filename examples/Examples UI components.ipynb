{
 "cells": [
  {
   "cell_type": "markdown",
   "metadata": {},
   "source": [
    "# Vuetify UI components\n",
    "All UI components found in the [vuetify documentation](https://vuetifyjs.com/en/components/alerts) can be recreated using `VuetifyTemplate`. Here are some examples."
   ]
  },
  {
   "cell_type": "code",
   "execution_count": 22,
   "metadata": {},
   "outputs": [],
   "source": [
    "import ipyvuetify as v\n",
    "\n",
    "from traitlets import (Bool, Unicode, List, Integer)"
   ]
  },
  {
   "cell_type": "markdown",
   "metadata": {},
   "source": [
    "# Alerts"
   ]
  },
  {
   "cell_type": "code",
   "execution_count": 5,
   "metadata": {},
   "outputs": [
    {
     "data": {
      "application/vnd.jupyter.widget-view+json": {
       "model_id": "3a86f2fcd5e447d5a790212b55a6de08",
       "version_major": 2,
       "version_minor": 0
      },
      "text/plain": [
       "AlertExample1()"
      ]
     },
     "metadata": {},
     "output_type": "display_data"
    }
   ],
   "source": [
    "class AlertExample1(v.VuetifyTemplate):\n",
    "    \n",
    "    template = Unicode('''\n",
    "            <div>\n",
    "              <v-alert\n",
    "                :value=\"true\"\n",
    "                type=\"success\"\n",
    "              >\n",
    "                This is a success alert.\n",
    "              </v-alert>\n",
    "\n",
    "              <v-alert\n",
    "                :value=\"true\"\n",
    "                type=\"info\"\n",
    "              >\n",
    "                This is a info alert.\n",
    "              </v-alert>\n",
    "\n",
    "              <v-alert\n",
    "                :value=\"true\"\n",
    "                type=\"warning\"\n",
    "              >\n",
    "                This is a warning alert.\n",
    "              </v-alert>\n",
    "\n",
    "              <v-alert\n",
    "                :value=\"true\"\n",
    "                type=\"error\"\n",
    "              >\n",
    "                This is a error alert.\n",
    "              </v-alert>\n",
    "            </div>''').tag(sync=True)\n",
    "    \n",
    "    \n",
    "AlertExample1()"
   ]
  },
  {
   "cell_type": "markdown",
   "metadata": {},
   "source": [
    "## Closable"
   ]
  },
  {
   "cell_type": "code",
   "execution_count": 8,
   "metadata": {},
   "outputs": [
    {
     "data": {
      "application/vnd.jupyter.widget-view+json": {
       "model_id": "1ddd06ef110f4b90844d8f2c6b643b25",
       "version_major": 2,
       "version_minor": 0
      },
      "text/plain": [
       "AlertExample2()"
      ]
     },
     "metadata": {},
     "output_type": "display_data"
    }
   ],
   "source": [
    "class AlertExample2(v.VuetifyTemplate):\n",
    "    \n",
    "    alert = Bool(True).tag(sync=True)\n",
    "    template = Unicode('''\n",
    "    <div>\n",
    "      <v-alert\n",
    "        v-model=\"alert\"\n",
    "        dismissible\n",
    "        type=\"success\"\n",
    "      >\n",
    "        This is a success alert that is closable.\n",
    "      </v-alert>\n",
    "  \n",
    "      <div class=\"text-xs-center\">\n",
    "        <v-btn\n",
    "          v-if=\"!alert\"\n",
    "          color=\"primary\"\n",
    "          dark\n",
    "          @click=\"alert = true\"\n",
    "        >\n",
    "          Reset\n",
    "        </v-btn>\n",
    "      </div>\n",
    "    </div>''').tag(sync=True)\n",
    "    \n",
    " \n",
    "AlertExample2()"
   ]
  },
  {
   "cell_type": "markdown",
   "metadata": {},
   "source": [
    "## Custom Icon / No Icon"
   ]
  },
  {
   "cell_type": "code",
   "execution_count": 10,
   "metadata": {},
   "outputs": [
    {
     "data": {
      "application/vnd.jupyter.widget-view+json": {
       "model_id": "44c78dc2e3d24ad585cbba8738c60e20",
       "version_major": 2,
       "version_minor": 0
      },
      "text/plain": [
       "AlertExample3()"
      ]
     },
     "metadata": {},
     "output_type": "display_data"
    }
   ],
   "source": [
    "class AlertExample3(v.VuetifyTemplate):\n",
    "    \n",
    "    alert = Bool(True).tag(sync=True)\n",
    "    template = Unicode('''\n",
    "    <div>\n",
    "      <v-alert\n",
    "        :value=\"true\"\n",
    "        color=\"success\"\n",
    "        icon=\"new_releases\"\n",
    "      >\n",
    "        This is a success alert with a custom icon.\n",
    "      </v-alert>\n",
    "  \n",
    "      <v-alert\n",
    "        :value=\"true\"\n",
    "        color=\"error\"\n",
    "      >\n",
    "        This is an error alert with no icon.\n",
    "      </v-alert>\n",
    "    </div>''').tag(sync=True)\n",
    "    \n",
    " \n",
    "AlertExample3()"
   ]
  },
  {
   "cell_type": "markdown",
   "metadata": {},
   "source": [
    "## Display transition"
   ]
  },
  {
   "cell_type": "code",
   "execution_count": 11,
   "metadata": {},
   "outputs": [
    {
     "data": {
      "application/vnd.jupyter.widget-view+json": {
       "model_id": "ec6f1f5ce51149c58eeb4de777509df1",
       "version_major": 2,
       "version_minor": 0
      },
      "text/plain": [
       "AlertExample4()"
      ]
     },
     "metadata": {},
     "output_type": "display_data"
    }
   ],
   "source": [
    "class AlertExample4(v.VuetifyTemplate):\n",
    "    \n",
    "    alert = Bool(True).tag(sync=True)\n",
    "    template = Unicode('''\n",
    "     <div>\n",
    "      <div class=\"text-xs-center\">\n",
    "        <v-btn\n",
    "          color=\"primary\"\n",
    "          @click=\"alert = !alert\"\n",
    "        >\n",
    "          Toggle\n",
    "        </v-btn>\n",
    "      </div>\n",
    "      <v-alert\n",
    "        :value=\"alert\"\n",
    "        type=\"success\"\n",
    "        transition=\"scale-transition\"\n",
    "      >\n",
    "        This is a success alert.\n",
    "      </v-alert>\n",
    "    </div>''').tag(sync=True)\n",
    "    \n",
    " \n",
    "AlertExample4()"
   ]
  },
  {
   "cell_type": "markdown",
   "metadata": {},
   "source": [
    "## Outline"
   ]
  },
  {
   "cell_type": "code",
   "execution_count": 12,
   "metadata": {},
   "outputs": [
    {
     "data": {
      "application/vnd.jupyter.widget-view+json": {
       "model_id": "5874ecce623c4c88827c97ccfb6e0638",
       "version_major": 2,
       "version_minor": 0
      },
      "text/plain": [
       "AlertExample5()"
      ]
     },
     "metadata": {},
     "output_type": "display_data"
    }
   ],
   "source": [
    "class AlertExample5(v.VuetifyTemplate):\n",
    "    \n",
    "    template = Unicode('''\n",
    "      <div>\n",
    "          <v-alert\n",
    "            :value=\"true\"\n",
    "            color=\"success\"\n",
    "            icon=\"check_circle\"\n",
    "            outline\n",
    "          >\n",
    "            This is a success alert.\n",
    "          </v-alert>\n",
    "\n",
    "          <v-alert\n",
    "            :value=\"true\"\n",
    "            color=\"info\"\n",
    "            icon=\"info\"\n",
    "            outline\n",
    "          >\n",
    "            This is an info alert.\n",
    "          </v-alert>\n",
    "\n",
    "          <v-alert\n",
    "            :value=\"true\"\n",
    "            color=\"warning\"\n",
    "            icon=\"priority_high\"\n",
    "            outline\n",
    "          >\n",
    "            This is a warning alert.\n",
    "          </v-alert>\n",
    "\n",
    "          <v-alert\n",
    "            :value=\"true\"\n",
    "            color=\"error\"\n",
    "            icon=\"warning\"\n",
    "            outline\n",
    "          >\n",
    "            This is a error alert.\n",
    "          </v-alert>\n",
    "      </div>''').tag(sync=True)\n",
    "    \n",
    " \n",
    "AlertExample5()"
   ]
  },
  {
   "cell_type": "markdown",
   "metadata": {},
   "source": [
    "# Avatar\n",
    "## Advanced Usage"
   ]
  },
  {
   "cell_type": "code",
   "execution_count": 14,
   "metadata": {},
   "outputs": [
    {
     "data": {
      "application/vnd.jupyter.widget-view+json": {
       "model_id": "11657e2f48c04e6c85001f897cf637c8",
       "version_major": 2,
       "version_minor": 0
      },
      "text/plain": [
       "AvatarExample1(messages=[{'avatar': 'https://avatars0.githubusercontent.com/u/9064066?v=4&s=460', 'name': 'Joh…"
      ]
     },
     "metadata": {},
     "output_type": "display_data"
    }
   ],
   "source": [
    "messages = [\n",
    "      {\n",
    "        'avatar': 'https://avatars0.githubusercontent.com/u/9064066?v=4&s=460',\n",
    "        'name': 'John Leider',\n",
    "        'title': 'Welcome to Vuetify.js!',\n",
    "        'excerpt': 'Thank you for joining our community...'\n",
    "      },\n",
    "      {\n",
    "        'color': 'red',\n",
    "        'icon': 'people',\n",
    "        'name': 'Social',\n",
    "        'new': 1,\n",
    "        'total': 3,\n",
    "        'title': 'Twitter'\n",
    "      },\n",
    "      {\n",
    "        'color': 'teal',\n",
    "        'icon': 'local_offer',\n",
    "        'name': 'Promos',\n",
    "        'new': 2,\n",
    "        'total': 4,\n",
    "        'title': 'Shop your way',\n",
    "        'exceprt': 'New deals available, Join Today'\n",
    "      }\n",
    "    ]\n",
    "lorem = 'Lorem ipsum dolor sit amet, at aliquam vivendum vel, everti delicatissimi cu eos. Dico iuvaret debitis mel an, et cum zril menandri. Eum in consul legimus accusam. Ea dico abhorreant duo, quo illum minimum incorrupte no, nostro voluptaria sea eu. Suas eligendi ius at, at nemore equidem est. Sed in error hendrerit, in consul constituam cum.'\n",
    "    \n",
    "\n",
    "class AvatarExample1(v.VuetifyTemplate):\n",
    "    \n",
    "    messages = List(messages).tag(sync=True)\n",
    "    lorem = Unicode(lorem).tag(sync=True)\n",
    "    \n",
    "    template = Unicode('''\n",
    "       <v-layout\n",
    "          column\n",
    "          justify-center\n",
    "        >\n",
    "          <v-subheader>Today</v-subheader>\n",
    "\n",
    "          <v-expansion-panel popout>\n",
    "            <v-expansion-panel-content\n",
    "              v-for=\"(message, i) in messages\"\n",
    "              :key=\"i\"\n",
    "              hide-actions\n",
    "            >\n",
    "              <template v-slot:header>\n",
    "                <v-layout\n",
    "                  align-center\n",
    "                  row\n",
    "                  spacer\n",
    "                >\n",
    "                  <v-flex xs4 sm2 md1>\n",
    "                    <v-avatar\n",
    "                      size=\"36px\"\n",
    "                    >\n",
    "                      <img\n",
    "                        v-if=\"message.avatar\"\n",
    "                        src=\"https://avatars0.githubusercontent.com/u/9064066?v=4&s=460\"\n",
    "                        alt=\"Avatar\"\n",
    "                      >\n",
    "                      <v-icon\n",
    "                        v-else\n",
    "                        :color=\"message.color\"\n",
    "                        v-text=\"message.icon\"\n",
    "                      ></v-icon>\n",
    "                    </v-avatar>\n",
    "                  </v-flex>\n",
    "\n",
    "                  <v-flex sm5 md3 hidden-xs-only>\n",
    "                    <strong v-html=\"message.name\"></strong>\n",
    "                    <span\n",
    "                      v-if=\"message.total\"\n",
    "                      class=\"grey--text\"\n",
    "                    >\n",
    "                      &nbsp;({{ message.total }})\n",
    "                    </span>\n",
    "                  </v-flex>\n",
    "\n",
    "                  <v-flex no-wrap xs5 sm3>\n",
    "                    <v-chip\n",
    "                      v-if=\"message.new\"\n",
    "                      :color=\"`${message.color} lighten-4`\"\n",
    "                      class=\"ml-0\"\n",
    "                      label\n",
    "                      small\n",
    "                    >\n",
    "                      {{ message.new }} new\n",
    "                    </v-chip>\n",
    "                    <strong v-html=\"message.title\"></strong>\n",
    "                  </v-flex>\n",
    "\n",
    "                  <v-flex\n",
    "                    v-if=\"message.excerpt\"\n",
    "                    class=\"grey--text\"\n",
    "                    ellipsis\n",
    "                    hidden-sm-and-down\n",
    "                  >\n",
    "                    &mdash;\n",
    "                    {{ message.excerpt }}\n",
    "                  </v-flex>\n",
    "                </v-layout>\n",
    "              </template>\n",
    "\n",
    "              <v-card>\n",
    "                <v-divider></v-divider>\n",
    "                <v-card-text v-text=\"lorem\"></v-card-text>\n",
    "              </v-card>\n",
    "            </v-expansion-panel-content>\n",
    "          </v-expansion-panel>\n",
    "        </v-layout>''').tag(sync=True)\n",
    "\n",
    " \n",
    "AvatarExample1()"
   ]
  },
  {
   "cell_type": "markdown",
   "metadata": {},
   "source": [
    "## Icon and Text"
   ]
  },
  {
   "cell_type": "code",
   "execution_count": 15,
   "metadata": {},
   "outputs": [
    {
     "data": {
      "application/vnd.jupyter.widget-view+json": {
       "model_id": "e1b848953def4b1c85152d018c8620a0",
       "version_major": 2,
       "version_minor": 0
      },
      "text/plain": [
       "AvatarExample2()"
      ]
     },
     "metadata": {},
     "output_type": "display_data"
    }
   ],
   "source": [
    "class AvatarExample2(v.VuetifyTemplate):\n",
    "    \n",
    "    template = Unicode('''\n",
    "       <v-layout\n",
    "      align-center\n",
    "      justify-space-around\n",
    "      wrap\n",
    "    >\n",
    "      <v-avatar color=\"indigo\">\n",
    "        <v-icon dark>account_circle</v-icon>\n",
    "      </v-avatar>\n",
    "  \n",
    "      <v-avatar>\n",
    "        <img\n",
    "          src=\"https://cdn.vuetifyjs.com/images/john.jpg\"\n",
    "          alt=\"John\"\n",
    "        >\n",
    "      </v-avatar>\n",
    "  \n",
    "      <v-badge overlap>\n",
    "        <template v-slot:badge>\n",
    "          <span>3</span>\n",
    "        </template>\n",
    "  \n",
    "        <v-avatar\n",
    "          color=\"purple red--after\"\n",
    "        >\n",
    "          <v-icon dark>notifications</v-icon>\n",
    "        </v-avatar>\n",
    "      </v-badge>\n",
    "  \n",
    "      <v-avatar color=\"teal\">\n",
    "        <span class=\"white--text headline\">C</span>\n",
    "      </v-avatar>\n",
    "  \n",
    "      <v-avatar color=\"red\">\n",
    "        <span class=\"white--text headline\">J</span>\n",
    "      </v-avatar>\n",
    "    </v-layout>''').tag(sync=True)\n",
    "\n",
    " \n",
    "AvatarExample2()"
   ]
  },
  {
   "cell_type": "markdown",
   "metadata": {},
   "source": [
    "# Badge"
   ]
  },
  {
   "cell_type": "code",
   "execution_count": 16,
   "metadata": {},
   "outputs": [
    {
     "data": {
      "application/vnd.jupyter.widget-view+json": {
       "model_id": "e92e19bf296f465f99fc4a59cc471706",
       "version_major": 2,
       "version_minor": 0
      },
      "text/plain": [
       "BadgeExample1()"
      ]
     },
     "metadata": {},
     "output_type": "display_data"
    }
   ],
   "source": [
    "class BadgeExample1(v.VuetifyTemplate):\n",
    "    \n",
    "    template = Unicode('''\n",
    "       <div class=\"text-xs-center\">\n",
    "          <v-badge left>\n",
    "            <template v-slot:badge>\n",
    "              <span>6</span>\n",
    "            </template>\n",
    "            <v-icon\n",
    "              large\n",
    "              color=\"grey lighten-1\"\n",
    "            >\n",
    "              shopping_cart\n",
    "            </v-icon>\n",
    "          </v-badge>\n",
    "\n",
    "          <v-badge color=\"red\">\n",
    "            <template v-slot:badge>\n",
    "              <span>!</span>\n",
    "            </template>\n",
    "            <v-icon\n",
    "              large\n",
    "              color=\"grey\"\n",
    "            >\n",
    "              mail\n",
    "            </v-icon>\n",
    "          </v-badge>\n",
    "        </div>''').tag(sync=True)\n",
    "\n",
    " \n",
    "BadgeExample1()"
   ]
  },
  {
   "cell_type": "markdown",
   "metadata": {},
   "source": [
    "## Overlap"
   ]
  },
  {
   "cell_type": "code",
   "execution_count": 17,
   "metadata": {},
   "outputs": [
    {
     "data": {
      "application/vnd.jupyter.widget-view+json": {
       "model_id": "a550167c64764405bf24d38c4d2f3949",
       "version_major": 2,
       "version_minor": 0
      },
      "text/plain": [
       "BadgeExample2()"
      ]
     },
     "metadata": {},
     "output_type": "display_data"
    }
   ],
   "source": [
    "class BadgeExample2(v.VuetifyTemplate):\n",
    "    \n",
    "    template = Unicode('''\n",
    "        <div class=\"text-xs-center\">\n",
    "          <v-badge\n",
    "            color=\"purple\"\n",
    "            left\n",
    "            overlap\n",
    "          >\n",
    "            <template v-slot:badge>\n",
    "              <v-icon\n",
    "                dark\n",
    "                small\n",
    "              >\n",
    "                done\n",
    "              </v-icon>\n",
    "            </template>\n",
    "            <v-icon\n",
    "              color=\"grey lighten-1\"\n",
    "              large\n",
    "            >\n",
    "              account_circle\n",
    "            </v-icon>\n",
    "          </v-badge>\n",
    "\n",
    "          <v-badge\n",
    "            overlap\n",
    "            color=\"orange\"\n",
    "          >\n",
    "            <template v-slot:badge>\n",
    "              <v-icon\n",
    "                dark\n",
    "                small\n",
    "              >\n",
    "                notifications\n",
    "              </v-icon>\n",
    "            </template>\n",
    "            <v-icon\n",
    "              large\n",
    "              color=\"grey darken-1\"\n",
    "            >\n",
    "              account_box\n",
    "            </v-icon>\n",
    "          </v-badge>\n",
    "        </div>''').tag(sync=True)\n",
    "\n",
    " \n",
    "BadgeExample2()"
   ]
  },
  {
   "cell_type": "markdown",
   "metadata": {},
   "source": [
    "## Inline"
   ]
  },
  {
   "cell_type": "code",
   "execution_count": 18,
   "metadata": {},
   "outputs": [
    {
     "data": {
      "application/vnd.jupyter.widget-view+json": {
       "model_id": "549479a498534b3e8ee446bb4807417b",
       "version_major": 2,
       "version_minor": 0
      },
      "text/plain": [
       "BadgeExample3()"
      ]
     },
     "metadata": {},
     "output_type": "display_data"
    }
   ],
   "source": [
    "class BadgeExample3(v.VuetifyTemplate):\n",
    "    \n",
    "    template = Unicode('''\n",
    "        <div class=\"text-xs-center\">\n",
    "          <v-badge left>\n",
    "            <template v-slot:badge>\n",
    "              <span>2</span>\n",
    "            </template>\n",
    "            <span>Examples</span>\n",
    "          </v-badge>\n",
    "\n",
    "          &nbsp;&nbsp;\n",
    "\n",
    "          <v-badge color=\"green\">\n",
    "            <template v-slot:badge>\n",
    "              <v-icon dark small>list</v-icon>\n",
    "            </template>\n",
    "            <span>Lists</span>\n",
    "          </v-badge>\n",
    "        </div>''').tag(sync=True)\n",
    "\n",
    " \n",
    "BadgeExample3()"
   ]
  },
  {
   "cell_type": "markdown",
   "metadata": {},
   "source": [
    "## Icon"
   ]
  },
  {
   "cell_type": "code",
   "execution_count": 19,
   "metadata": {},
   "outputs": [
    {
     "data": {
      "application/vnd.jupyter.widget-view+json": {
       "model_id": "2af621472f744236a16d376ad9b3f52a",
       "version_major": 2,
       "version_minor": 0
      },
      "text/plain": [
       "BadgeExample4()"
      ]
     },
     "metadata": {},
     "output_type": "display_data"
    }
   ],
   "source": [
    "class BadgeExample4(v.VuetifyTemplate):\n",
    "    \n",
    "    template = Unicode('''\n",
    "        <div class=\"text-xs-center\">\n",
    "          <v-badge left color=\"purple\">\n",
    "            <template v-slot:badge>\n",
    "              <v-icon dark small>mdi-adjust</v-icon>\n",
    "            </template>\n",
    "            <span>\n",
    "              MDI icon\n",
    "            </span>\n",
    "          </v-badge>\n",
    "\n",
    "          &nbsp;&nbsp;\n",
    "\n",
    "          <v-badge color=\"orange\">\n",
    "            <template v-slot:badge>\n",
    "              <v-icon dark small>fas fa-fighter-jet</v-icon>\n",
    "            </template>\n",
    "            <span>\n",
    "              Font Awesome icon\n",
    "            </span>\n",
    "          </v-badge>\n",
    "        </div>''').tag(sync=True)\n",
    "\n",
    " \n",
    "BadgeExample4()"
   ]
  },
  {
   "cell_type": "markdown",
   "metadata": {},
   "source": [
    "## Visibility"
   ]
  },
  {
   "cell_type": "code",
   "execution_count": 20,
   "metadata": {},
   "outputs": [
    {
     "data": {
      "application/vnd.jupyter.widget-view+json": {
       "model_id": "4b7d2a91549e4203af0915bb803a7603",
       "version_major": 2,
       "version_minor": 0
      },
      "text/plain": [
       "BadgeExample5()"
      ]
     },
     "metadata": {},
     "output_type": "display_data"
    }
   ],
   "source": [
    "class BadgeExample5(v.VuetifyTemplate):\n",
    "    \n",
    "    show = Bool(True).tag(sync=True)\n",
    "    \n",
    "    template = Unicode('''\n",
    "         <v-container fluid class=\"text-xs-center\">\n",
    "          <v-layout\n",
    "            justify-space-between\n",
    "            row\n",
    "            wrap\n",
    "          >\n",
    "            <v-flex xs12>\n",
    "              <v-btn\n",
    "                color=\"indigo\"\n",
    "                class=\"white--text\"\n",
    "                @click=\"show = !show\"\n",
    "              >\n",
    "                Toggle\n",
    "              </v-btn>\n",
    "            </v-flex>\n",
    "\n",
    "            <v-flex xs12 class=\"mt-5\">\n",
    "              <v-badge\n",
    "                v-model=\"show\"\n",
    "                color=\"cyan\"\n",
    "                left\n",
    "              >\n",
    "                <template v-slot:badge>\n",
    "                  <span>6</span>\n",
    "                </template>\n",
    "                <v-icon\n",
    "                  large\n",
    "                  color=\"grey lighten-1\"\n",
    "                >shopping_cart</v-icon>\n",
    "              </v-badge>\n",
    "\n",
    "              <v-badge\n",
    "                v-model=\"show\"\n",
    "                color=\"purple\"\n",
    "              >\n",
    "                <template v-slot:badge>\n",
    "                  <span>6</span>\n",
    "                </template>\n",
    "                <v-icon large color=\"grey\">mail</v-icon>\n",
    "              </v-badge>\n",
    "            </v-flex>\n",
    "          </v-layout>\n",
    "        </v-container>''').tag(sync=True)\n",
    "\n",
    " \n",
    "BadgeExample5()"
   ]
  },
  {
   "cell_type": "markdown",
   "metadata": {},
   "source": [
    "# Bottom Navigation"
   ]
  },
  {
   "cell_type": "code",
   "execution_count": 21,
   "metadata": {},
   "outputs": [
    {
     "data": {
      "application/vnd.jupyter.widget-view+json": {
       "model_id": "6bd381c72f644b8fbe5746f1aef0d59e",
       "version_major": 2,
       "version_minor": 0
      },
      "text/plain": [
       "BottomNavigationExample1()"
      ]
     },
     "metadata": {},
     "output_type": "display_data"
    }
   ],
   "source": [
    "class BottomNavigationExample1(v.VuetifyTemplate):\n",
    "    \n",
    "    bottomNav = Unicode('recent').tag(sync=True)\n",
    "    \n",
    "    template = Unicode('''\n",
    "         <v-card height=\"200px\" flat>\n",
    "          <div class=\"headline text-xs-center pa-5\">\n",
    "            Active: {{ bottomNav }}\n",
    "          </div>\n",
    "          <v-bottom-nav\n",
    "            :active.sync=\"bottomNav\"\n",
    "            :value=\"true\"\n",
    "            absolute\n",
    "            color=\"transparent\"\n",
    "          >\n",
    "            <v-btn\n",
    "              color=\"teal\"\n",
    "              flat\n",
    "              value=\"recent\"\n",
    "            >\n",
    "              <span>Recent</span>\n",
    "              <v-icon>history</v-icon>\n",
    "            </v-btn>\n",
    "\n",
    "            <v-btn\n",
    "              color=\"teal\"\n",
    "              flat\n",
    "              value=\"favorites\"\n",
    "            >\n",
    "              <span>Favorites</span>\n",
    "              <v-icon>favorite</v-icon>\n",
    "            </v-btn>\n",
    "\n",
    "            <v-btn\n",
    "              color=\"teal\"\n",
    "              flat\n",
    "              value=\"nearby\"\n",
    "            >\n",
    "              <span>Nearby</span>\n",
    "              <v-icon>place</v-icon>\n",
    "            </v-btn>\n",
    "          </v-bottom-nav>\n",
    "        </v-card>''').tag(sync=True)\n",
    "\n",
    " \n",
    "BottomNavigationExample1()"
   ]
  },
  {
   "cell_type": "markdown",
   "metadata": {},
   "source": [
    "## Color & Shift"
   ]
  },
  {
   "cell_type": "code",
   "execution_count": 35,
   "metadata": {},
   "outputs": [
    {
     "data": {
      "application/vnd.jupyter.widget-view+json": {
       "model_id": "a5eb1f9742c6497a810bceef303b1793",
       "version_major": 2,
       "version_minor": 0
      },
      "text/plain": [
       "BottomNavigationExample2()"
      ]
     },
     "metadata": {},
     "output_type": "display_data"
    }
   ],
   "source": [
    "class BottomNavigationExample2(v.VuetifyTemplate):\n",
    "    \n",
    "    colors = ['blue-grey', 'teal', 'brown', 'indigo']\n",
    "    bottomNav = Integer(3).tag(sync=True)\n",
    "    color = Unicode('indigo').tag(sync=True)\n",
    "    \n",
    "    template = Unicode('''\n",
    "          <v-card height=\"200px\">\n",
    "              <v-bottom-nav\n",
    "                :active.sync=\"bottomNav\"\n",
    "                :color=\"color\"\n",
    "                :value=\"true\"\n",
    "                absolute\n",
    "                dark\n",
    "                shift\n",
    "              >\n",
    "                <v-btn dark>\n",
    "                  <span>Video</span>\n",
    "                  <v-icon>ondemand_video</v-icon>\n",
    "                </v-btn>\n",
    "\n",
    "                <v-btn dark>\n",
    "                  <span>Music</span>\n",
    "                  <v-icon>music_note</v-icon>\n",
    "                </v-btn>\n",
    "\n",
    "                <v-btn dark>\n",
    "                  <span>Book</span>\n",
    "                  <v-icon>book</v-icon>\n",
    "                </v-btn>\n",
    "\n",
    "                <v-btn dark>\n",
    "                  <span>Image</span>\n",
    "                  <v-icon>image</v-icon>\n",
    "                </v-btn>\n",
    "              </v-bottom-nav>\n",
    "            </v-card>''').tag(sync=True)\n",
    "    \n",
    "    \n",
    "\n",
    " \n",
    "BottomNavigationExample2()"
   ]
  },
  {
   "cell_type": "markdown",
   "metadata": {},
   "source": [
    "## Toggle"
   ]
  },
  {
   "cell_type": "code",
   "execution_count": 36,
   "metadata": {},
   "outputs": [
    {
     "data": {
      "application/vnd.jupyter.widget-view+json": {
       "model_id": "1054f6d703b84d97bc216e45dd3d58c2",
       "version_major": 2,
       "version_minor": 0
      },
      "text/plain": [
       "BottomNavigationExample3()"
      ]
     },
     "metadata": {},
     "output_type": "display_data"
    }
   ],
   "source": [
    "class BottomNavigationExample3(v.VuetifyTemplate):\n",
    "    \n",
    "    activeBtn = Integer(1).tag(sync=True)\n",
    "    showNav = Bool(True).tag(sync=True)\n",
    "    \n",
    "    template = Unicode('''\n",
    "           <v-card\n",
    "              class=\"hide-overflow\"\n",
    "              height=\"200px\"\n",
    "            >\n",
    "              <v-card-text class=\"text-xs-center\">\n",
    "                <v-btn\n",
    "                  flat\n",
    "                  color=\"primary\"\n",
    "                  @click=\"showNav = !showNav\"\n",
    "                >\n",
    "                  Toggle Nav\n",
    "                </v-btn>\n",
    "              </v-card-text>\n",
    "\n",
    "              <v-bottom-nav\n",
    "                :active.sync=\"activeBtn\"\n",
    "                :value=\"showNav\"\n",
    "                absolute\n",
    "                color=\"transparent\"\n",
    "              >\n",
    "                <v-btn flat color=\"teal\">\n",
    "                  <span>Recents</span>\n",
    "                  <v-icon>history</v-icon>\n",
    "                </v-btn>\n",
    "\n",
    "                <v-btn flat color=\"teal\">\n",
    "                  <span>Favorites</span>\n",
    "                  <v-icon>favorite</v-icon>\n",
    "                </v-btn>\n",
    "\n",
    "                <v-btn flat color=\"teal\">\n",
    "                  <span>Nearby</span>\n",
    "                  <v-icon>place</v-icon>\n",
    "                </v-btn>\n",
    "              </v-bottom-nav>\n",
    "            </v-card>''').tag(sync=True)\n",
    "    \n",
    "    \n",
    "\n",
    " \n",
    "BottomNavigationExample3()"
   ]
  },
  {
   "cell_type": "markdown",
   "metadata": {},
   "source": [
    "# Bottom sheet"
   ]
  },
  {
   "cell_type": "code",
   "execution_count": 38,
   "metadata": {},
   "outputs": [
    {
     "data": {
      "application/vnd.jupyter.widget-view+json": {
       "model_id": "fbd067a7159945d8bb501b2c1fdc6e56",
       "version_major": 2,
       "version_minor": 0
      },
      "text/plain": [
       "BottomSheetExample1(tiles=[{'img': 'keep.png', 'title': 'Keep'}, {'img': 'inbox.png', 'title': 'Inbox'}, {'img…"
      ]
     },
     "metadata": {},
     "output_type": "display_data"
    }
   ],
   "source": [
    "tiles = [\n",
    "      { 'img': 'keep.png', 'title': 'Keep' },\n",
    "      { 'img': 'inbox.png', 'title': 'Inbox' },\n",
    "      { 'img': 'hangouts.png', 'title': 'Hangouts' },\n",
    "      { 'img': 'messenger.png', 'title': 'Messenger' },\n",
    "      { 'img': 'google.png', 'title': 'Google+' }\n",
    "    ]\n",
    "\n",
    "class BottomSheetExample1(v.VuetifyTemplate):\n",
    "    \n",
    "    tiles = List(tiles).tag(sync=True)\n",
    "    sheet = Bool(False).tag(sync=True)\n",
    "    \n",
    "    template = Unicode('''\n",
    "            <div class=\"text-xs-center\">\n",
    "              <v-bottom-sheet v-model=\"sheet\">\n",
    "                <template v-slot:activator>\n",
    "                  <v-btn\n",
    "                    color=\"purple\"\n",
    "                    dark\n",
    "                  >\n",
    "                    Click me\n",
    "                  </v-btn>\n",
    "                </template>\n",
    "                <v-list>\n",
    "                  <v-subheader>Open in</v-subheader>\n",
    "                  <v-list-tile\n",
    "                    v-for=\"tile in tiles\"\n",
    "                    :key=\"tile.title\"\n",
    "                    @click=\"sheet = false\"\n",
    "                  >\n",
    "                    <v-list-tile-avatar>\n",
    "                      <v-avatar size=\"32px\" tile>\n",
    "                        <img\n",
    "                          :src=\"`https://cdn.vuetifyjs.com/images/bottom-sheets/${tile.img}`\"\n",
    "                          :alt=\"tile.title\"\n",
    "                        >\n",
    "                      </v-avatar>\n",
    "                    </v-list-tile-avatar>\n",
    "                    <v-list-tile-title>{{ tile.title }}</v-list-tile-title>\n",
    "                  </v-list-tile>\n",
    "                </v-list>\n",
    "              </v-bottom-sheet>\n",
    "            </div>''').tag(sync=True)\n",
    "    \n",
    "    \n",
    "\n",
    " \n",
    "BottomSheetExample1()"
   ]
  },
  {
   "cell_type": "code",
   "execution_count": 39,
   "metadata": {},
   "outputs": [
    {
     "data": {
      "application/vnd.jupyter.widget-view+json": {
       "model_id": "b411dac248364a388b312cdd49f16281",
       "version_major": 2,
       "version_minor": 0
      },
      "text/plain": [
       "BottomSheetExample2()"
      ]
     },
     "metadata": {},
     "output_type": "display_data"
    }
   ],
   "source": [
    "class BottomSheetExample2(v.VuetifyTemplate):\n",
    "    \n",
    "    template = Unicode('''\n",
    "            <div class=\"text-xs-center\">\n",
    "              <v-bottom-sheet inset>\n",
    "                <template v-slot:activator>\n",
    "                  <v-btn\n",
    "                    color=\"red\"\n",
    "                    dark\n",
    "                  >\n",
    "                    Show player\n",
    "                  </v-btn>\n",
    "                </template>\n",
    "                <v-card tile>\n",
    "                  <v-progress-linear\n",
    "                    :value=\"50\"\n",
    "                    class=\"my-0\"\n",
    "                    height=\"3\"\n",
    "                  ></v-progress-linear>\n",
    "\n",
    "                  <v-list>\n",
    "                    <v-list-tile>\n",
    "                      <v-list-tile-content>\n",
    "                        <v-list-tile-title>The Walker</v-list-tile-title>\n",
    "                        <v-list-tile-sub-title>Fitz & The Trantrums</v-list-tile-sub-title>\n",
    "                      </v-list-tile-content>\n",
    "\n",
    "                      <v-spacer></v-spacer>\n",
    "\n",
    "                      <v-list-tile-action>\n",
    "                        <v-btn icon>\n",
    "                          <v-icon>fast_rewind</v-icon>\n",
    "                        </v-btn>\n",
    "                      </v-list-tile-action>\n",
    "\n",
    "                      <v-list-tile-action :class=\"{ 'mx-5': $vuetify.breakpoint.mdAndUp }\">\n",
    "                        <v-btn icon>\n",
    "                          <v-icon>pause</v-icon>\n",
    "                        </v-btn>\n",
    "                      </v-list-tile-action>\n",
    "\n",
    "                      <v-list-tile-action :class=\"{ 'mr-3': $vuetify.breakpoint.mdAndUp }\">\n",
    "                        <v-btn icon>\n",
    "                          <v-icon>fast_forward</v-icon>\n",
    "                        </v-btn>\n",
    "                      </v-list-tile-action>\n",
    "                    </v-list-tile>\n",
    "                  </v-list>\n",
    "                </v-card>\n",
    "              </v-bottom-sheet>\n",
    "            </div>''').tag(sync=True)\n",
    "    \n",
    "    \n",
    "\n",
    " \n",
    "BottomSheetExample2()"
   ]
  },
  {
   "cell_type": "markdown",
   "metadata": {},
   "source": [
    "# Buttons"
   ]
  },
  {
   "cell_type": "code",
   "execution_count": 40,
   "metadata": {},
   "outputs": [
    {
     "data": {
      "application/vnd.jupyter.widget-view+json": {
       "model_id": "4a9818e0cdda4a05a25296c774bc50d7",
       "version_major": 2,
       "version_minor": 0
      },
      "text/plain": [
       "ButtonsExample1()"
      ]
     },
     "metadata": {},
     "output_type": "display_data"
    }
   ],
   "source": [
    "class ButtonsExample1(v.VuetifyTemplate):\n",
    "    \n",
    "    template = Unicode('''\n",
    "                <div>\n",
    "                  <v-btn color=\"success\">Success</v-btn>\n",
    "                  <v-btn color=\"error\">Error</v-btn>\n",
    "                  <v-btn color=\"warning\">Warning</v-btn>\n",
    "                  <v-btn color=\"info\">Info</v-btn>\n",
    "                </div>''').tag(sync=True)\n",
    "    \n",
    "    \n",
    "\n",
    " \n",
    "ButtonsExample1()"
   ]
  },
  {
   "cell_type": "markdown",
   "metadata": {},
   "source": [
    "## Flat"
   ]
  },
  {
   "cell_type": "code",
   "execution_count": 41,
   "metadata": {},
   "outputs": [
    {
     "data": {
      "application/vnd.jupyter.widget-view+json": {
       "model_id": "ba23d95153e141e9b05d1890ef1baf00",
       "version_major": 2,
       "version_minor": 0
      },
      "text/plain": [
       "ButtonsExample2()"
      ]
     },
     "metadata": {},
     "output_type": "display_data"
    }
   ],
   "source": [
    "class ButtonsExample2(v.VuetifyTemplate):\n",
    "    \n",
    "    template = Unicode('''\n",
    "                 <v-layout align-center>\n",
    "                      <v-flex xs12 sm4 text-xs-center>\n",
    "                        <div>\n",
    "                          <v-btn flat small>Normal</v-btn>\n",
    "                        </div>\n",
    "                        <div>\n",
    "                          <v-btn flat small color=\"primary\">Primary</v-btn>\n",
    "                        </div>\n",
    "                        <div>\n",
    "                          <v-btn flat small color=\"error\">Error</v-btn>\n",
    "                        </div>\n",
    "                        <div>\n",
    "                          <v-btn flat small disabled>Disabled</v-btn>\n",
    "                        </div>\n",
    "                      </v-flex>\n",
    "\n",
    "                      <v-flex xs12 sm4 text-xs-center>\n",
    "                        <div>\n",
    "                          <v-btn flat>Normal</v-btn>\n",
    "                        </div>\n",
    "                        <div>\n",
    "                          <v-btn flat color=\"primary\">Primary</v-btn>\n",
    "                        </div>\n",
    "                        <div>\n",
    "                          <v-btn flat color=\"error\">Error</v-btn>\n",
    "                        </div>\n",
    "                        <div>\n",
    "                          <v-btn flat disabled>Disabled</v-btn>\n",
    "                        </div>\n",
    "                      </v-flex>\n",
    "\n",
    "                      <v-flex xs12 sm4 text-xs-center>\n",
    "                        <div>\n",
    "                          <v-btn flat large>Normal</v-btn>\n",
    "                        </div>\n",
    "                        <div>\n",
    "                          <v-btn flat large color=\"primary\">Primary</v-btn>\n",
    "                        </div>\n",
    "                        <div>\n",
    "                          <v-btn flat large color=\"error\">Error</v-btn>\n",
    "                        </div>\n",
    "                        <div>\n",
    "                          <v-btn flat large disabled>Disabled</v-btn>\n",
    "                        </div>\n",
    "                      </v-flex>\n",
    "                    </v-layout>''').tag(sync=True)\n",
    "    \n",
    "    \n",
    "\n",
    " \n",
    "ButtonsExample2()"
   ]
  },
  {
   "cell_type": "markdown",
   "metadata": {},
   "source": [
    "## Raised"
   ]
  },
  {
   "cell_type": "code",
   "execution_count": 42,
   "metadata": {},
   "outputs": [
    {
     "data": {
      "application/vnd.jupyter.widget-view+json": {
       "model_id": "84a865dbbc514284b884f0e4d8de1af2",
       "version_major": 2,
       "version_minor": 0
      },
      "text/plain": [
       "ButtonsExample3()"
      ]
     },
     "metadata": {},
     "output_type": "display_data"
    }
   ],
   "source": [
    "class ButtonsExample3(v.VuetifyTemplate):\n",
    "    \n",
    "    template = Unicode('''\n",
    "             <v-layout align-center>\n",
    "              <v-flex xs12 sm4 text-xs-center>\n",
    "                <div>\n",
    "                  <v-btn small>Normal</v-btn>\n",
    "                </div>\n",
    "                <div>\n",
    "                  <v-btn small color=\"primary\">Primary</v-btn>\n",
    "                </div>\n",
    "                <div>\n",
    "                  <v-btn small color=\"error\">Error</v-btn>\n",
    "                </div>\n",
    "                <div>\n",
    "                  <v-btn small disabled>Disabled</v-btn>\n",
    "                </div>\n",
    "              </v-flex>\n",
    "              <v-flex xs12 sm4 text-xs-center>\n",
    "                <div>\n",
    "                  <v-btn>Normal</v-btn>\n",
    "                </div>\n",
    "                <div>\n",
    "                  <v-btn color=\"primary\">Primary</v-btn>\n",
    "                </div>\n",
    "                <div>\n",
    "                  <v-btn color=\"error\">Error</v-btn>\n",
    "                </div>\n",
    "                <div>\n",
    "                  <v-btn disabled>Disabled</v-btn>\n",
    "                </div>\n",
    "              </v-flex>\n",
    "              <v-flex xs12 sm4 text-xs-center>\n",
    "                <div>\n",
    "                  <v-btn large>Normal</v-btn>\n",
    "                </div>\n",
    "                <div>\n",
    "                  <v-btn large color=\"primary\">Primary</v-btn>\n",
    "                </div>\n",
    "                <div>\n",
    "                  <v-btn large color=\"error\">Error</v-btn>\n",
    "                </div>\n",
    "                <div>\n",
    "                  <v-btn large disabled>Disabled</v-btn>\n",
    "                </div>\n",
    "              </v-flex>\n",
    "            </v-layout>''').tag(sync=True)\n",
    "\n",
    "    \n",
    "ButtonsExample3()"
   ]
  },
  {
   "cell_type": "markdown",
   "metadata": {},
   "source": [
    "## Depressed"
   ]
  },
  {
   "cell_type": "code",
   "execution_count": 43,
   "metadata": {},
   "outputs": [
    {
     "data": {
      "application/vnd.jupyter.widget-view+json": {
       "model_id": "5b765568768f4db780765c293f70adc9",
       "version_major": 2,
       "version_minor": 0
      },
      "text/plain": [
       "ButtonsExample4()"
      ]
     },
     "metadata": {},
     "output_type": "display_data"
    }
   ],
   "source": [
    "class ButtonsExample4(v.VuetifyTemplate):\n",
    "    \n",
    "    template = Unicode('''\n",
    "             <v-layout align-center>\n",
    "                  <v-flex xs12 sm4 text-xs-center>\n",
    "                    <div>\n",
    "                      <v-btn depressed small>Normal</v-btn>\n",
    "                    </div>\n",
    "                    <div>\n",
    "                      <v-btn depressed small color=\"primary\">Primary</v-btn>\n",
    "                    </div>\n",
    "                    <div>\n",
    "                      <v-btn depressed small color=\"error\">Error</v-btn>\n",
    "                    </div>\n",
    "                    <div>\n",
    "                      <v-btn depressed small disabled>Disabled</v-btn>\n",
    "                    </div>\n",
    "                  </v-flex>\n",
    "\n",
    "                  <v-flex xs12 sm4 text-xs-center>\n",
    "                    <div>\n",
    "                      <v-btn depressed>Normal</v-btn>\n",
    "                    </div>\n",
    "                    <div>\n",
    "                      <v-btn depressed color=\"primary\">Primary</v-btn>\n",
    "                    </div>\n",
    "                    <div>\n",
    "                      <v-btn depressed color=\"error\">Error</v-btn>\n",
    "                    </div>\n",
    "                    <div>\n",
    "                      <v-btn depressed disabled>Disabled</v-btn>\n",
    "                    </div>\n",
    "                  </v-flex>\n",
    "\n",
    "                  <v-flex xs12 sm4 text-xs-center>\n",
    "                    <div>\n",
    "                      <v-btn depressed large>Normal</v-btn>\n",
    "                    </div>\n",
    "                    <div>\n",
    "                      <v-btn depressed large color=\"primary\">Primary</v-btn>\n",
    "                    </div>\n",
    "                    <div>\n",
    "                      <v-btn depressed large color=\"error\">Error</v-btn>\n",
    "                    </div>\n",
    "                    <div>\n",
    "                      <v-btn depressed large disabled>Disabled</v-btn>\n",
    "                    </div>\n",
    "                  </v-flex>\n",
    "                </v-layout>''').tag(sync=True)\n",
    "\n",
    "    \n",
    "ButtonsExample4()"
   ]
  },
  {
   "cell_type": "markdown",
   "metadata": {},
   "source": [
    "## Button Dropdown Variants"
   ]
  },
  {
   "cell_type": "code",
   "execution_count": 45,
   "metadata": {},
   "outputs": [
    {
     "data": {
      "application/vnd.jupyter.widget-view+json": {
       "model_id": "93bae5b3b3c44378bf0fc5838fb6218a",
       "version_major": 2,
       "version_minor": 0
      },
      "text/plain": [
       "ButtonsExample5(dropdown_edit=[{'text': '100%'}, {'text': '75%'}, {'text': '50%'}, {'text': '25%'}, {'text': '…"
      ]
     },
     "metadata": {},
     "output_type": "display_data"
    }
   ],
   "source": [
    "dropdown_font = ['Arial', 'Calibri', 'Courier', 'Verdana']\n",
    "dropdown_icon = [\n",
    "  { 'text': 'list' },\n",
    "  { 'text': 'favorite' },\n",
    "  { 'text': 'delete' }\n",
    "]\n",
    "dropdown_edit = [\n",
    "  { 'text': '100%' },\n",
    "  { 'text': '75%' },\n",
    "  { 'text': '50%' },\n",
    "  { 'text': '25%' },\n",
    "  { 'text': '0%' }\n",
    "]\n",
    "\n",
    "class ButtonsExample5(v.VuetifyTemplate):\n",
    "    \n",
    "    dropdown_font = List(dropdown_font).tag(sync=True)\n",
    "    dropdown_icon = List(dropdown_icon).tag(sync=True)\n",
    "    dropdown_edit = List(dropdown_edit).tag(sync=True)\n",
    "    \n",
    "    \n",
    "    template = Unicode('''\n",
    "            <v-container id=\"dropdown-example\" grid-list-xl>\n",
    "              <v-layout row wrap>\n",
    "                <v-flex xs12 sm4>\n",
    "                  <p>Overflow</p>\n",
    "\n",
    "                  <v-overflow-btn\n",
    "                    :items=\"dropdown_font\"\n",
    "                    label=\"Overflow Btn\"\n",
    "                    target=\"#dropdown-example\"\n",
    "                  ></v-overflow-btn>\n",
    "                </v-flex>\n",
    "\n",
    "                <v-flex xs12 sm4>\n",
    "                  <p>Segmented</p>\n",
    "\n",
    "                  <v-overflow-btn\n",
    "                    :items=\"dropdown_icon\"\n",
    "                    label=\"Segmented Btn\"\n",
    "                    segmented\n",
    "                    target=\"#dropdown-example\"\n",
    "                  ></v-overflow-btn>\n",
    "                </v-flex>\n",
    "\n",
    "                <v-flex xs12 sm4>\n",
    "                  <p>Editable</p>\n",
    "\n",
    "                  <v-overflow-btn\n",
    "                    :items=\"dropdown_edit\"\n",
    "                    label=\"Editable Btn\"\n",
    "                    editable\n",
    "                    item-value=\"text\"\n",
    "                  ></v-overflow-btn>\n",
    "                </v-flex>\n",
    "              </v-layout>\n",
    "            </v-container>''').tag(sync=True)\n",
    "\n",
    "    \n",
    "ButtonsExample5()"
   ]
  },
  {
   "cell_type": "markdown",
   "metadata": {},
   "source": [
    "## Icon"
   ]
  },
  {
   "cell_type": "code",
   "execution_count": 46,
   "metadata": {},
   "outputs": [
    {
     "data": {
      "application/vnd.jupyter.widget-view+json": {
       "model_id": "e08b5ffa37574a2aba350edaea55adec",
       "version_major": 2,
       "version_minor": 0
      },
      "text/plain": [
       "ButtonsExample6()"
      ]
     },
     "metadata": {},
     "output_type": "display_data"
    }
   ],
   "source": [
    "class ButtonsExample6(v.VuetifyTemplate):\n",
    "    \n",
    "    template = Unicode('''\n",
    "          <v-card flat>\n",
    "              <v-card-text>\n",
    "                <v-container fluid class=\"pa-0\">\n",
    "                  <v-layout row wrap>\n",
    "                    <v-flex xs12>\n",
    "                      <p>Normal</p>\n",
    "                    </v-flex>\n",
    "\n",
    "                    <v-flex xs12 sm3>\n",
    "                      <v-btn flat icon color=\"pink\">\n",
    "                        <v-icon>favorite</v-icon>\n",
    "                      </v-btn>\n",
    "                    </v-flex>\n",
    "\n",
    "                    <v-flex xs12 sm3>\n",
    "                      <v-btn flat icon color=\"indigo\">\n",
    "                        <v-icon>star</v-icon>\n",
    "                      </v-btn>\n",
    "                    </v-flex>\n",
    "\n",
    "                    <v-flex xs12 sm3>\n",
    "                      <v-btn flat icon color=\"green\">\n",
    "                        <v-icon>cached</v-icon>\n",
    "                      </v-btn>\n",
    "                    </v-flex>\n",
    "\n",
    "                    <v-flex xs12 sm3>\n",
    "                      <v-btn flat icon color=\"deep-orange\">\n",
    "                        <v-icon>thumb_up</v-icon>\n",
    "                      </v-btn>\n",
    "                    </v-flex>\n",
    "                  </v-layout>\n",
    "\n",
    "                  <v-layout row wrap class=\"mt-5\">\n",
    "                    <v-flex xs12>\n",
    "                      <p>Disabled</p>\n",
    "                    </v-flex>\n",
    "\n",
    "                    <v-flex xs12 sm3>\n",
    "                      <v-btn icon disabled>\n",
    "                        <v-icon>favorite</v-icon>\n",
    "                      </v-btn>\n",
    "                    </v-flex>\n",
    "\n",
    "                    <v-flex xs12 sm3>\n",
    "                      <v-btn icon disabled>\n",
    "                        <v-icon>star</v-icon>\n",
    "                      </v-btn>\n",
    "                    </v-flex>\n",
    "\n",
    "                    <v-flex xs12 sm3>\n",
    "                      <v-btn icon disabled>\n",
    "                        <v-icon>cached</v-icon>\n",
    "                      </v-btn>\n",
    "                    </v-flex>\n",
    "\n",
    "                    <v-flex xs12 sm3>\n",
    "                      <v-btn icon disabled>\n",
    "                        <v-icon>thumb_up</v-icon>\n",
    "                      </v-btn>\n",
    "                    </v-flex>\n",
    "                  </v-layout>\n",
    "                </v-container>\n",
    "              </v-card-text>\n",
    "            </v-card>''').tag(sync=True)\n",
    "\n",
    "    \n",
    "ButtonsExample6()"
   ]
  },
  {
   "cell_type": "code",
   "execution_count": 47,
   "metadata": {},
   "outputs": [
    {
     "data": {
      "application/vnd.jupyter.widget-view+json": {
       "model_id": "449d13a9899344d281d4673429ba9c34",
       "version_major": 2,
       "version_minor": 0
      },
      "text/plain": [
       "ButtonsExample7()"
      ]
     },
     "metadata": {},
     "output_type": "display_data"
    }
   ],
   "source": [
    "class ButtonsExample7(v.VuetifyTemplate):\n",
    "    \n",
    "    template = Unicode('''\n",
    "           <div class=\"text-xs-center\">\n",
    "              <v-btn fab dark small color=\"primary\">\n",
    "                <v-icon dark>remove</v-icon>\n",
    "              </v-btn>\n",
    "\n",
    "              <v-btn fab dark small color=\"pink\">\n",
    "                <v-icon dark>favorite</v-icon>\n",
    "              </v-btn>\n",
    "\n",
    "              <v-btn fab dark color=\"indigo\">\n",
    "                <v-icon dark>add</v-icon>\n",
    "              </v-btn>\n",
    "\n",
    "              <v-btn fab dark color=\"teal\">\n",
    "                <v-icon dark>list</v-icon>\n",
    "              </v-btn>\n",
    "\n",
    "              <v-btn fab dark large color=\"cyan\">\n",
    "                <v-icon dark>edit</v-icon>\n",
    "              </v-btn>\n",
    "\n",
    "              <v-btn fab dark large color=\"purple\">\n",
    "                <v-icon dark>android</v-icon>\n",
    "              </v-btn>\n",
    "            </div>''').tag(sync=True)\n",
    "\n",
    "    \n",
    "ButtonsExample7()"
   ]
  },
  {
   "cell_type": "markdown",
   "metadata": {},
   "source": [
    "## Sizing"
   ]
  },
  {
   "cell_type": "code",
   "execution_count": 48,
   "metadata": {},
   "outputs": [
    {
     "data": {
      "application/vnd.jupyter.widget-view+json": {
       "model_id": "99e7515dac1e475aa7224660a44023e0",
       "version_major": 2,
       "version_minor": 0
      },
      "text/plain": [
       "ButtonsExample8()"
      ]
     },
     "metadata": {},
     "output_type": "display_data"
    }
   ],
   "source": [
    "class ButtonsExample8(v.VuetifyTemplate):\n",
    "    \n",
    "    template = Unicode('''\n",
    "           <v-container fluid class=\"pa-0\">\n",
    "              <v-layout row wrap align-center>\n",
    "                <v-flex xs12 sm6>\n",
    "                  <div class=\"text-xs-center\">\n",
    "                    <div>\n",
    "                      <v-btn small color=\"primary\" dark>Small Button</v-btn>\n",
    "                    </div>\n",
    "                    <div>\n",
    "                      <v-btn color=\"warning\" dark>Normal Button</v-btn>\n",
    "                    </div>\n",
    "                    <div>\n",
    "                      <v-btn color=\"error\" dark large>Large Button</v-btn>\n",
    "                    </div>\n",
    "                  </div>\n",
    "                </v-flex>\n",
    "                <v-flex xs12 sm6>\n",
    "                  <div class=\"text-xs-center\">\n",
    "                    <div>\n",
    "                      <v-btn color=\"primary\" fab small dark>\n",
    "                        <v-icon>edit</v-icon>\n",
    "                      </v-btn>\n",
    "                    </div>\n",
    "                    <div>\n",
    "                      <v-btn color=\"warning\" fab dark>\n",
    "                        <v-icon>account_circle</v-icon>\n",
    "                      </v-btn>\n",
    "                    </div>\n",
    "                    <div>\n",
    "                      <v-btn color=\"error\" fab large dark>\n",
    "                        <v-icon>alarm</v-icon>\n",
    "                      </v-btn>\n",
    "                    </div>\n",
    "                  </div>\n",
    "                </v-flex>\n",
    "              </v-layout>\n",
    "            </v-container>''').tag(sync=True)\n",
    "\n",
    "    \n",
    "ButtonsExample8()"
   ]
  },
  {
   "cell_type": "markdown",
   "metadata": {},
   "source": [
    "## Outline"
   ]
  },
  {
   "cell_type": "code",
   "execution_count": 50,
   "metadata": {},
   "outputs": [
    {
     "data": {
      "application/vnd.jupyter.widget-view+json": {
       "model_id": "4493f52a6349478b954d57579f5acbd2",
       "version_major": 2,
       "version_minor": 0
      },
      "text/plain": [
       "ButtonsExample9()"
      ]
     },
     "metadata": {},
     "output_type": "display_data"
    }
   ],
   "source": [
    "class ButtonsExample9(v.VuetifyTemplate):\n",
    "    \n",
    "    template = Unicode('''\n",
    "           <div class=\"text-xs-center\">\n",
    "              <v-btn outline color=\"indigo\">Outline Button</v-btn>\n",
    "              <v-btn outline fab color=\"teal\">\n",
    "                <v-icon>list</v-icon>\n",
    "              </v-btn>\n",
    "              <v-btn outline large fab color=\"indigo\">\n",
    "                <v-icon>edit</v-icon>\n",
    "              </v-btn>\n",
    "            </div>''').tag(sync=True)\n",
    "\n",
    "    \n",
    "ButtonsExample9()"
   ]
  },
  {
   "cell_type": "markdown",
   "metadata": {},
   "source": [
    "## Round"
   ]
  },
  {
   "cell_type": "code",
   "execution_count": 51,
   "metadata": {},
   "outputs": [
    {
     "data": {
      "application/vnd.jupyter.widget-view+json": {
       "model_id": "90a2e66dc26b46b096d53d1d0954f640",
       "version_major": 2,
       "version_minor": 0
      },
      "text/plain": [
       "ButtonsExample10()"
      ]
     },
     "metadata": {},
     "output_type": "display_data"
    }
   ],
   "source": [
    "class ButtonsExample10(v.VuetifyTemplate):\n",
    "    \n",
    "    template = Unicode('''\n",
    "           <div class=\"text-xs-center\">\n",
    "              <v-btn round color=\"primary\" dark>Rounded Button</v-btn>\n",
    "            </div>''').tag(sync=True)\n",
    "\n",
    "    \n",
    "ButtonsExample10()"
   ]
  },
  {
   "cell_type": "code",
   "execution_count": 52,
   "metadata": {},
   "outputs": [
    {
     "data": {
      "application/vnd.jupyter.widget-view+json": {
       "model_id": "23cde7fa36ee40d2be8eb2857582ca96",
       "version_major": 2,
       "version_minor": 0
      },
      "text/plain": [
       "ButtonsExample11()"
      ]
     },
     "metadata": {},
     "output_type": "display_data"
    }
   ],
   "source": [
    "class ButtonsExample11(v.VuetifyTemplate):\n",
    "    \n",
    "    template = Unicode('''\n",
    "               <v-btn block color=\"secondary\" dark>Block Button</v-btn>''').tag(sync=True)\n",
    "\n",
    "    \n",
    "ButtonsExample11()"
   ]
  },
  {
   "cell_type": "markdown",
   "metadata": {},
   "source": [
    "# Floating Action Buttons"
   ]
  },
  {
   "cell_type": "code",
   "execution_count": 53,
   "metadata": {},
   "outputs": [
    {
     "data": {
      "application/vnd.jupyter.widget-view+json": {
       "model_id": "5c529a213e9241f5b05d0c9b37d29734",
       "version_major": 2,
       "version_minor": 0
      },
      "text/plain": [
       "FloatingActionButtonExample1(items=[{'icon': 'folder', 'iconClass': 'grey lighten-1 white--text', 'title': 'Ph…"
      ]
     },
     "metadata": {},
     "output_type": "display_data"
    }
   ],
   "source": [
    "items = [\n",
    "{ 'icon': 'folder', 'iconClass': 'grey lighten-1 white--text', 'title': 'Photos', 'subtitle': 'Jan 9, 2014' },\n",
    "{ 'icon': 'folder', 'iconClass': 'grey lighten-1 white--text', 'title': 'Recipes', 'subtitle': 'Jan 17, 2014' },\n",
    "{ 'icon': 'folder', 'iconClass': 'grey lighten-1 white--text', 'title': 'Work', 'subtitle': 'Jan 28, 2014' }\n",
    "]\n",
    "\n",
    "items2 = [\n",
    "{ 'icon': 'assignment', 'iconClass': 'blue white--text', 'title': 'Vacation itinerary', 'subtitle': 'Jan 20, 2014' },\n",
    "{ 'icon': 'call_to_action', 'iconClass': 'amber white--text', 'title': 'Kitchen remodel', 'subtitle': 'Jan 10, 2014' }\n",
    "]\n",
    "\n",
    "\n",
    "class FloatingActionButtonExample1(v.VuetifyTemplate):\n",
    "    \n",
    "    dialog = Bool(False).tag(sync=True)\n",
    "    items = List(items).tag(sync=True)\n",
    "    items2 = List(items2).tag(sync=True)\n",
    "    \n",
    "    template = Unicode('''\n",
    "            <v-layout row>\n",
    "              <v-flex xs12 sm6 offset-sm3>\n",
    "                <v-card>\n",
    "                  <v-toolbar color=\"light-blue\" light extended>\n",
    "                    <v-toolbar-side-icon></v-toolbar-side-icon>\n",
    "                    <v-btn\n",
    "                      fab\n",
    "                      small\n",
    "                      color=\"cyan accent-2\"\n",
    "                      bottom\n",
    "                      left\n",
    "                      absolute\n",
    "                      @click=\"dialog = !dialog\"\n",
    "                    >\n",
    "                      <v-icon>add</v-icon>\n",
    "                    </v-btn>\n",
    "                    <template v-slot:extension>\n",
    "                      <v-toolbar-title class=\"white--text\">My files</v-toolbar-title>\n",
    "                    </template>\n",
    "                    <v-spacer></v-spacer>\n",
    "                    <v-btn icon>\n",
    "                      <v-icon>search</v-icon>\n",
    "                    </v-btn>\n",
    "                    <v-btn icon>\n",
    "                      <v-icon>view_module</v-icon>\n",
    "                    </v-btn>\n",
    "                  </v-toolbar>\n",
    "                  <v-list two-line subheader>\n",
    "                    <v-subheader inset>Folders</v-subheader>\n",
    "                    <v-list-tile v-for=\"item in items\" :key=\"item.title\" avatar @click=\"\">\n",
    "                      <v-list-tile-avatar>\n",
    "                        <v-icon :class=\"[item.iconClass]\">{{ item.icon }}</v-icon>\n",
    "                      </v-list-tile-avatar>\n",
    "                      <v-list-tile-content>\n",
    "                        <v-list-tile-title>{{ item.title }}</v-list-tile-title>\n",
    "                        <v-list-tile-sub-title>{{ item.subtitle }}</v-list-tile-sub-title>\n",
    "                      </v-list-tile-content>\n",
    "                      <v-list-tile-action>\n",
    "                        <v-btn icon>\n",
    "                          <v-icon color=\"grey lighten-1\">info</v-icon>\n",
    "                        </v-btn>\n",
    "                      </v-list-tile-action>\n",
    "                    </v-list-tile>\n",
    "                    <v-divider inset></v-divider>\n",
    "                    <v-subheader inset>Files</v-subheader>\n",
    "                    <v-list-tile v-for=\"item in items2\" :key=\"item.title\" avatar @click=\"\">\n",
    "                      <v-list-tile-avatar>\n",
    "                        <v-icon :class=\"[item.iconClass]\">{{ item.icon }}</v-icon>\n",
    "                      </v-list-tile-avatar>\n",
    "                      <v-list-tile-content>\n",
    "                        <v-list-tile-title>{{ item.title }}</v-list-tile-title>\n",
    "                        <v-list-tile-sub-title>{{ item.subtitle }}</v-list-tile-sub-title>\n",
    "                      </v-list-tile-content>\n",
    "                      <v-list-tile-action>\n",
    "                        <v-btn icon ripple>\n",
    "                          <v-icon color=\"grey lighten-1\">info</v-icon>\n",
    "                        </v-btn>\n",
    "                      </v-list-tile-action>\n",
    "                    </v-list-tile>\n",
    "                  </v-list>\n",
    "                  <v-dialog v-model=\"dialog\" max-width=\"500px\">\n",
    "                    <v-card>\n",
    "                      <v-card-text>\n",
    "                        <v-text-field label=\"File name\"></v-text-field>\n",
    "                        <small class=\"grey--text\">* This doesn't actually save.</small>\n",
    "                      </v-card-text>\n",
    "                      <v-card-actions>\n",
    "                        <v-spacer></v-spacer>\n",
    "                        <v-btn flat color=\"primary\" @click=\"dialog = false\">Submit</v-btn>\n",
    "                      </v-card-actions>\n",
    "                    </v-card>\n",
    "                  </v-dialog>\n",
    "                </v-card>\n",
    "              </v-flex>\n",
    "            </v-layout>''').tag(sync=True)\n",
    "\n",
    "    \n",
    "FloatingActionButtonExample1()"
   ]
  },
  {
   "cell_type": "markdown",
   "metadata": {},
   "source": [
    "## Display animation"
   ]
  },
  {
   "cell_type": "code",
   "execution_count": 54,
   "metadata": {},
   "outputs": [
    {
     "data": {
      "application/vnd.jupyter.widget-view+json": {
       "model_id": "ff6228e547294c77bcf1ea37d8a2fd07",
       "version_major": 2,
       "version_minor": 0
      },
      "text/plain": [
       "FloatingActionButtonExample2()"
      ]
     },
     "metadata": {},
     "output_type": "display_data"
    }
   ],
   "source": [
    "class FloatingActionButtonExample2(v.VuetifyTemplate):\n",
    "    \n",
    "    hidden = Bool(False).tag(sync=True)\n",
    "    \n",
    "    template = Unicode('''\n",
    "            <v-container fluid grid-list-lg>\n",
    "              <v-layout row wrap>\n",
    "                <v-flex xs12 sm12 md6 offset-md3>\n",
    "                  <v-card>\n",
    "                    <v-toolbar extended>\n",
    "                      <v-toolbar-side-icon></v-toolbar-side-icon>\n",
    "                      <v-fab-transition>\n",
    "                        <v-btn\n",
    "                          v-show=\"!hidden\"\n",
    "                          color=\"pink\"\n",
    "                          fab\n",
    "                          dark\n",
    "                          small\n",
    "                          absolute\n",
    "                          bottom\n",
    "                          left\n",
    "                        >\n",
    "                          <v-icon>add</v-icon>\n",
    "                        </v-btn>\n",
    "                      </v-fab-transition>\n",
    "                    </v-toolbar>\n",
    "                    <v-card-text style=\"height: 300px;\" class=\"grey lighten-5 text-xs-center\">\n",
    "                      <v-btn color=\"primary\" @click=\"hidden = !hidden\">\n",
    "                        {{ hidden ? 'Show' : 'Hide' }}\n",
    "                      </v-btn>\n",
    "                    </v-card-text>\n",
    "                    <v-card-text style=\"height: 100px; position: relative\">\n",
    "                      <v-fab-transition>\n",
    "                        <v-btn\n",
    "                          v-show=\"!hidden\"\n",
    "                          color=\"pink\"\n",
    "                          dark\n",
    "                          absolute\n",
    "                          top\n",
    "                          right\n",
    "                          fab\n",
    "                        >\n",
    "                          <v-icon>add</v-icon>\n",
    "                        </v-btn>\n",
    "                      </v-fab-transition>\n",
    "                    </v-card-text>\n",
    "                  </v-card>\n",
    "                </v-flex>\n",
    "              </v-layout>\n",
    "            </v-container>''').tag(sync=True)\n",
    "\n",
    "    \n",
    "FloatingActionButtonExample2()"
   ]
  },
  {
   "cell_type": "markdown",
   "metadata": {},
   "source": [
    "# Calendar"
   ]
  },
  {
   "cell_type": "code",
   "execution_count": 58,
   "metadata": {},
   "outputs": [
    {
     "data": {
      "application/vnd.jupyter.widget-view+json": {
       "model_id": "99c846cd9a364d608154eb955efee77e",
       "version_major": 2,
       "version_minor": 0
      },
      "text/plain": [
       "CalendarExample1(typeOptions=[{'text': 'Day', 'value': 'day'}, {'text': '4 Day', 'value': '4day'}, {'text': 'W…"
      ]
     },
     "metadata": {},
     "output_type": "display_data"
    }
   ],
   "source": [
    "typeOptions = [\n",
    "      { 'text': 'Day', 'value': 'day' },\n",
    "      { 'text': '4 Day', 'value': '4day' },\n",
    "      { 'text': 'Week', 'value': 'week' },\n",
    "      { 'text': 'Month', 'value': 'month' },\n",
    "      { 'text': 'Custom Daily', 'value': 'custom-daily' },\n",
    "      { 'text': 'Custom Weekly', 'value': 'custom-weekly' }\n",
    "    ]\n",
    "\n",
    "class CalendarExample1(v.VuetifyTemplate):\n",
    "    \n",
    "    type = Unicode('month').tag(sync=True)\n",
    "    start = Unicode('2019-01-01').tag(sync=True)\n",
    "    end = Unicode('2019-01-06').tag(sync=True)\n",
    "    typeOptions = List(typeOptions).tag(sync=True)\n",
    "    \n",
    "    template = Unicode('''\n",
    "             <v-layout wrap>\n",
    "                  <v-flex\n",
    "                    xs12\n",
    "                    class=\"mb-3\"\n",
    "                  >\n",
    "                    <v-sheet height=\"500\">\n",
    "                      <v-calendar\n",
    "                        ref=\"calendar\"\n",
    "                        v-model=\"start\"\n",
    "                        :type=\"type\"\n",
    "                        :end=\"end\"\n",
    "                        color=\"primary\"\n",
    "                      ></v-calendar>\n",
    "                    </v-sheet>\n",
    "                  </v-flex>\n",
    "\n",
    "                  <v-flex\n",
    "                    sm4\n",
    "                    xs12\n",
    "                    class=\"text-sm-left text-xs-center\"\n",
    "                  >\n",
    "                    <v-btn @click=\"$refs.calendar.prev()\">\n",
    "                      <v-icon\n",
    "                        dark\n",
    "                        left\n",
    "                      >\n",
    "                        keyboard_arrow_left\n",
    "                      </v-icon>\n",
    "                      Prev\n",
    "                    </v-btn>\n",
    "                  </v-flex>\n",
    "                  <v-flex\n",
    "                    sm4\n",
    "                    xs12\n",
    "                    class=\"text-xs-center\"\n",
    "                  >\n",
    "                    <v-select\n",
    "                      v-model=\"type\"\n",
    "                      :items=\"typeOptions\"\n",
    "                      label=\"Type\"\n",
    "                    ></v-select>\n",
    "                  </v-flex>\n",
    "                  <v-flex\n",
    "                    sm4\n",
    "                    xs12\n",
    "                    class=\"text-sm-right text-xs-center\"\n",
    "                  >\n",
    "                    <v-btn @click=\"$refs.calendar.next()\">\n",
    "                      Next\n",
    "                      <v-icon\n",
    "                        right\n",
    "                        dark\n",
    "                      >\n",
    "                        keyboard_arrow_right\n",
    "                      </v-icon>\n",
    "                    </v-btn>\n",
    "                  </v-flex>\n",
    "                </v-layout>''').tag(sync=True)\n",
    "\n",
    "    \n",
    "CalendarExample1()"
   ]
  },
  {
   "cell_type": "markdown",
   "metadata": {},
   "source": [
    "# Cards"
   ]
  },
  {
   "cell_type": "code",
   "execution_count": 60,
   "metadata": {},
   "outputs": [
    {
     "data": {
      "application/vnd.jupyter.widget-view+json": {
       "model_id": "0f7758ceb42a4ca4ab4e68f964375ef2",
       "version_major": 2,
       "version_minor": 0
      },
      "text/plain": [
       "CardsExample1()"
      ]
     },
     "metadata": {},
     "output_type": "display_data"
    }
   ],
   "source": [
    "class CardsExample1(v.VuetifyTemplate):\n",
    "    \n",
    "    template = Unicode('''\n",
    "              <v-layout>\n",
    "                  <v-flex xs12 sm6 offset-sm3>\n",
    "                    <v-card>\n",
    "                      <v-img\n",
    "                        class=\"white--text\"\n",
    "                        height=\"200px\"\n",
    "                        src=\"https://cdn.vuetifyjs.com/images/cards/docks.jpg\"\n",
    "                      >\n",
    "                        <v-container fill-height fluid>\n",
    "                          <v-layout fill-height>\n",
    "                            <v-flex xs12 align-end flexbox>\n",
    "                              <span class=\"headline\">Top 10 Australian beaches</span>\n",
    "                            </v-flex>\n",
    "                          </v-layout>\n",
    "                        </v-container>\n",
    "                      </v-img>\n",
    "                      <v-card-title>\n",
    "                        <div>\n",
    "                          <span class=\"grey--text\">Number 10</span><br>\n",
    "                          <span>Whitehaven Beach</span><br>\n",
    "                          <span>Whitsunday Island, Whitsunday Islands</span>\n",
    "                        </div>\n",
    "                      </v-card-title>\n",
    "                      <v-card-actions>\n",
    "                        <v-btn flat color=\"orange\">Share</v-btn>\n",
    "                        <v-btn flat color=\"orange\">Explore</v-btn>\n",
    "                      </v-card-actions>\n",
    "                    </v-card>\n",
    "                  </v-flex>\n",
    "                </v-layout>''').tag(sync=True)\n",
    "\n",
    "    \n",
    "CardsExample1()"
   ]
  },
  {
   "cell_type": "markdown",
   "metadata": {},
   "source": [
    "## Horizontal cards"
   ]
  },
  {
   "cell_type": "code",
   "execution_count": 61,
   "metadata": {},
   "outputs": [
    {
     "data": {
      "application/vnd.jupyter.widget-view+json": {
       "model_id": "61590f42e44648bc8b9bc70c513f3343",
       "version_major": 2,
       "version_minor": 0
      },
      "text/plain": [
       "CardsExample2()"
      ]
     },
     "metadata": {},
     "output_type": "display_data"
    }
   ],
   "source": [
    "class CardsExample2(v.VuetifyTemplate):\n",
    "    \n",
    "    template = Unicode('''\n",
    "              <div\n",
    "                  id=\"e3\"\n",
    "                  style=\"max-width: 400px; margin: auto;\"\n",
    "                  class=\"grey lighten-3\"\n",
    "                >\n",
    "                  <v-toolbar\n",
    "                    color=\"pink\"\n",
    "                    dark\n",
    "                  >\n",
    "                    <v-toolbar-side-icon></v-toolbar-side-icon>\n",
    "                    <v-toolbar-title>My Music</v-toolbar-title>\n",
    "                    <v-spacer></v-spacer>\n",
    "                    <v-btn icon>\n",
    "                      <v-icon>search</v-icon>\n",
    "                    </v-btn>\n",
    "                  </v-toolbar>\n",
    "\n",
    "                  <v-card>\n",
    "                    <v-container\n",
    "                      fluid\n",
    "                      grid-list-lg\n",
    "                    >\n",
    "                      <v-layout row wrap>\n",
    "                        <v-flex xs12>\n",
    "                          <v-card color=\"blue-grey darken-2\" class=\"white--text\">\n",
    "                            <v-card-title primary-title>\n",
    "                              <div>\n",
    "                                <div class=\"headline\">Unlimited music now</div>\n",
    "                                <span>Listen to your favorite artists and albums whenever and wherever, online and offline.</span>\n",
    "                              </div>\n",
    "                            </v-card-title>\n",
    "                            <v-card-actions>\n",
    "                              <v-btn flat dark>Listen now</v-btn>\n",
    "                            </v-card-actions>\n",
    "                          </v-card>\n",
    "                        </v-flex>\n",
    "\n",
    "                        <v-flex xs12>\n",
    "                          <v-card color=\"cyan darken-2\" class=\"white--text\">\n",
    "                            <v-layout>\n",
    "                              <v-flex xs5>\n",
    "                                <v-img\n",
    "                                  src=\"https://cdn.vuetifyjs.com/images/cards/foster.jpg\"\n",
    "                                  height=\"125px\"\n",
    "                                  contain\n",
    "                                ></v-img>\n",
    "                              </v-flex>\n",
    "                              <v-flex xs7>\n",
    "                                <v-card-title primary-title>\n",
    "                                  <div>\n",
    "                                    <div class=\"headline\">Supermodel</div>\n",
    "                                    <div>Foster the People</div>\n",
    "                                    <div>(2014)</div>\n",
    "                                  </div>\n",
    "                                </v-card-title>\n",
    "                              </v-flex>\n",
    "                            </v-layout>\n",
    "                            <v-divider light></v-divider>\n",
    "                            <v-card-actions class=\"pa-3\">\n",
    "                              Rate this album\n",
    "                              <v-spacer></v-spacer>\n",
    "                              <v-icon>star_border</v-icon>\n",
    "                              <v-icon>star_border</v-icon>\n",
    "                              <v-icon>star_border</v-icon>\n",
    "                              <v-icon>star_border</v-icon>\n",
    "                              <v-icon>star_border</v-icon>\n",
    "                            </v-card-actions>\n",
    "                          </v-card>\n",
    "                        </v-flex>\n",
    "\n",
    "                        <v-flex xs12>\n",
    "                          <v-card color=\"purple\" class=\"white--text\">\n",
    "                            <v-layout row>\n",
    "                              <v-flex xs7>\n",
    "                                <v-card-title primary-title>\n",
    "                                  <div>\n",
    "                                    <div class=\"headline\">Halycon Days</div>\n",
    "                                    <div>Ellie Goulding</div>\n",
    "                                    <div>(2013)</div>\n",
    "                                  </div>\n",
    "                                </v-card-title>\n",
    "                              </v-flex>\n",
    "                              <v-flex xs5>\n",
    "                                <v-img\n",
    "                                  src=\"https://cdn.vuetifyjs.com/images/cards/halcyon.png\"\n",
    "                                  height=\"125px\"\n",
    "                                  contain\n",
    "                                ></v-img>\n",
    "                              </v-flex>\n",
    "                            </v-layout>\n",
    "                            <v-divider light></v-divider>\n",
    "                            <v-card-actions class=\"pa-3\">\n",
    "                              Rate this album\n",
    "                              <v-spacer></v-spacer>\n",
    "                              <v-icon>star_border</v-icon>\n",
    "                              <v-icon>star_border</v-icon>\n",
    "                              <v-icon>star_border</v-icon>\n",
    "                              <v-icon>star_border</v-icon>\n",
    "                              <v-icon>star_border</v-icon>\n",
    "                            </v-card-actions>\n",
    "                          </v-card>\n",
    "                        </v-flex>\n",
    "                      </v-layout>\n",
    "                    </v-container>\n",
    "                  </v-card>\n",
    "                </div>''').tag(sync=True)\n",
    "\n",
    "    \n",
    "CardsExample2()"
   ]
  },
  {
   "cell_type": "markdown",
   "metadata": {},
   "source": [
    "## Grids"
   ]
  },
  {
   "cell_type": "code",
   "execution_count": 62,
   "metadata": {},
   "outputs": [
    {
     "data": {
      "application/vnd.jupyter.widget-view+json": {
       "model_id": "ee2940e5d71d43dfbb0f947897c880cc",
       "version_major": 2,
       "version_minor": 0
      },
      "text/plain": [
       "CardsExample3(cards=[{'title': 'Pre-fab homes', 'src': 'https://cdn.vuetifyjs.com/images/cards/house.jpg', 'fl…"
      ]
     },
     "metadata": {},
     "output_type": "display_data"
    }
   ],
   "source": [
    "cards = [\n",
    "      { 'title': 'Pre-fab homes', 'src': 'https://cdn.vuetifyjs.com/images/cards/house.jpg', 'flex': 12 },\n",
    "      { 'title': 'Favorite road trips', 'src': 'https://cdn.vuetifyjs.com/images/cards/road.jpg', 'flex': 6 },\n",
    "      { 'title': 'Best airlines', 'src': 'https://cdn.vuetifyjs.com/images/cards/plane.jpg', 'flex': 6 }\n",
    "    ]\n",
    "\n",
    "class CardsExample3(v.VuetifyTemplate):\n",
    "    \n",
    "    cards = List(cards).tag(sync=True)\n",
    "    \n",
    "    template = Unicode('''\n",
    "              <v-layout justify-center>\n",
    "                  <v-flex xs12 sm6>\n",
    "                    <v-toolbar color=\"indigo\" dark>\n",
    "                      <v-toolbar-side-icon></v-toolbar-side-icon>\n",
    "                      <v-toolbar-title>Discover</v-toolbar-title>\n",
    "                      <v-spacer></v-spacer>\n",
    "                      <v-btn icon>\n",
    "                        <v-icon>search</v-icon>\n",
    "                      </v-btn>\n",
    "                    </v-toolbar>\n",
    "\n",
    "                    <v-card>\n",
    "                      <v-container\n",
    "                        fluid\n",
    "                        grid-list-md\n",
    "                      >\n",
    "                        <v-layout row wrap>\n",
    "                          <v-flex\n",
    "                            v-for=\"card in cards\"\n",
    "                            :key=\"card.title\"\n",
    "                            v-bind=\"{ [`xs${card.flex}`]: true }\"\n",
    "                          >\n",
    "                            <v-card>\n",
    "                              <v-img\n",
    "                                :src=\"card.src\"\n",
    "                                height=\"200px\"\n",
    "                              >\n",
    "                                <v-container\n",
    "                                  fill-height\n",
    "                                  fluid\n",
    "                                  pa-2\n",
    "                                >\n",
    "                                  <v-layout fill-height>\n",
    "                                    <v-flex xs12 align-end flexbox>\n",
    "                                      <span class=\"headline white--text\" v-text=\"card.title\"></span>\n",
    "                                    </v-flex>\n",
    "                                  </v-layout>\n",
    "                                </v-container>\n",
    "                              </v-img>\n",
    "\n",
    "                              <v-card-actions>\n",
    "                                <v-spacer></v-spacer>\n",
    "                                <v-btn icon>\n",
    "                                  <v-icon>favorite</v-icon>\n",
    "                                </v-btn>\n",
    "                                <v-btn icon>\n",
    "                                  <v-icon>bookmark</v-icon>\n",
    "                                </v-btn>\n",
    "                                <v-btn icon>\n",
    "                                  <v-icon>share</v-icon>\n",
    "                                </v-btn>\n",
    "                              </v-card-actions>\n",
    "                            </v-card>\n",
    "                          </v-flex>\n",
    "                        </v-layout>\n",
    "                      </v-container>\n",
    "                    </v-card>\n",
    "                  </v-flex>\n",
    "                </v-layout>''').tag(sync=True)\n",
    "\n",
    "    \n",
    "CardsExample3()\n",
    "\n"
   ]
  },
  {
   "cell_type": "markdown",
   "metadata": {},
   "source": [
    "## Custom actions"
   ]
  },
  {
   "cell_type": "code",
   "execution_count": 63,
   "metadata": {},
   "outputs": [
    {
     "data": {
      "application/vnd.jupyter.widget-view+json": {
       "model_id": "291a37193df34c79b033a3891f47e529",
       "version_major": 2,
       "version_minor": 0
      },
      "text/plain": [
       "CardsExample4()"
      ]
     },
     "metadata": {},
     "output_type": "display_data"
    }
   ],
   "source": [
    "class CardsExample4(v.VuetifyTemplate):\n",
    "    \n",
    "    show = Bool(False).tag(sync=True)\n",
    "    \n",
    "    template = Unicode('''\n",
    "              <v-layout row>\n",
    "                  <v-flex xs12 sm6 offset-sm3>\n",
    "                    <v-card>\n",
    "                      <v-img\n",
    "                        src=\"https://cdn.vuetifyjs.com/images/cards/sunshine.jpg\"\n",
    "                        height=\"200px\"\n",
    "                      >\n",
    "                      </v-img>\n",
    "\n",
    "                      <v-card-title primary-title>\n",
    "                        <div>\n",
    "                          <div class=\"headline\">Top western road trips</div>\n",
    "                          <span class=\"grey--text\">1,000 miles of wonder</span>\n",
    "                        </div>\n",
    "                      </v-card-title>\n",
    "\n",
    "                      <v-card-actions>\n",
    "                        <v-btn flat>Share</v-btn>\n",
    "                        <v-btn flat color=\"purple\">Explore</v-btn>\n",
    "                        <v-spacer></v-spacer>\n",
    "                        <v-btn icon @click=\"show = !show\">\n",
    "                          <v-icon>{{ show ? 'keyboard_arrow_down' : 'keyboard_arrow_up' }}</v-icon>\n",
    "                        </v-btn>\n",
    "                      </v-card-actions>\n",
    "\n",
    "                      <v-slide-y-transition>\n",
    "                        <v-card-text v-show=\"show\">\n",
    "                          I'm a thing. But, like most politicians, he promised more than he could deliver. You won't have time for sleeping, soldier, not with all the bed making you'll be doing. Then we'll go with that data file! Hey, you add a one and two zeros to that or we walk! You're going to do his laundry? I've got to find a way to escape.\n",
    "                        </v-card-text>\n",
    "                      </v-slide-y-transition>\n",
    "                    </v-card>\n",
    "                  </v-flex>\n",
    "                </v-layout>''').tag(sync=True)\n",
    "\n",
    "    \n",
    "CardsExample4()"
   ]
  },
  {
   "cell_type": "markdown",
   "metadata": {},
   "source": [
    "## Twitter card"
   ]
  },
  {
   "cell_type": "code",
   "execution_count": 64,
   "metadata": {},
   "outputs": [
    {
     "data": {
      "application/vnd.jupyter.widget-view+json": {
       "model_id": "73421bc9de214a7295a377fc29969d68",
       "version_major": 2,
       "version_minor": 0
      },
      "text/plain": [
       "CardsExample5()"
      ]
     },
     "metadata": {},
     "output_type": "display_data"
    }
   ],
   "source": [
    "class CardsExample5(v.VuetifyTemplate):\n",
    "    \n",
    "    template = Unicode('''\n",
    "               <v-card\n",
    "                  class=\"mx-auto\"\n",
    "                  color=\"#26c6da\"\n",
    "                  dark\n",
    "                  max-width=\"400\"\n",
    "                >\n",
    "                  <v-card-title>\n",
    "                    <v-icon\n",
    "                      large\n",
    "                      left\n",
    "                    >\n",
    "                      mdi-twitter\n",
    "                    </v-icon>\n",
    "                    <span class=\"title font-weight-light\">Twitter</span>\n",
    "                  </v-card-title>\n",
    "\n",
    "                  <v-card-text class=\"headline font-weight-bold\">\n",
    "                    \"Turns out semicolon-less style is easier and safer in TS because most gotcha edge cases are type invalid as well.\"\n",
    "                  </v-card-text>\n",
    "\n",
    "                  <v-card-actions>\n",
    "                    <v-list-tile class=\"grow\">\n",
    "                      <v-list-tile-avatar color=\"grey darken-3\">\n",
    "                        <v-img\n",
    "                          class=\"elevation-6\"\n",
    "                          src=\"https://avataaars.io/?avatarStyle=Transparent&topType=ShortHairShortCurly&accessoriesType=Prescription02&hairColor=Black&facialHairType=Blank&clotheType=Hoodie&clotheColor=White&eyeType=Default&eyebrowType=DefaultNatural&mouthType=Default&skinColor=Light\"\n",
    "                        ></v-img>\n",
    "                      </v-list-tile-avatar>\n",
    "\n",
    "                      <v-list-tile-content>\n",
    "                        <v-list-tile-title>Evan You</v-list-tile-title>\n",
    "                      </v-list-tile-content>\n",
    "\n",
    "                      <v-layout\n",
    "                        align-center\n",
    "                        justify-end\n",
    "                      >\n",
    "                        <v-icon class=\"mr-1\">mdi-heart</v-icon>\n",
    "                        <span class=\"subheading mr-2\">256</span>\n",
    "                        <span class=\"mr-1\">·</span>\n",
    "                        <v-icon class=\"mr-1\">mdi-share-variant</v-icon>\n",
    "                        <span class=\"subheading\">45</span>\n",
    "                      </v-layout>\n",
    "                    </v-list-tile>\n",
    "                  </v-card-actions>\n",
    "                </v-card>''').tag(sync=True)\n",
    "\n",
    "    \n",
    "CardsExample5()"
   ]
  },
  {
   "cell_type": "code",
   "execution_count": null,
   "metadata": {},
   "outputs": [],
   "source": []
  }
 ],
 "metadata": {
  "kernelspec": {
   "display_name": "Python 3",
   "language": "python",
   "name": "python3"
  },
  "language_info": {
   "codemirror_mode": {
    "name": "ipython",
    "version": 3
   },
   "file_extension": ".py",
   "mimetype": "text/x-python",
   "name": "python",
   "nbconvert_exporter": "python",
   "pygments_lexer": "ipython3",
   "version": "3.7.3"
  }
 },
 "nbformat": 4,
 "nbformat_minor": 2
}
